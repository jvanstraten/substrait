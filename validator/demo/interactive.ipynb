{
 "cells": [
  {
   "cell_type": "code",
   "execution_count": 1,
   "id": "0a278b5a",
   "metadata": {},
   "outputs": [
    {
     "data": {
      "application/javascript": [
       "IPython.OutputArea.auto_scroll_threshold = 9999;\n"
      ],
      "text/plain": [
       "<IPython.core.display.Javascript object>"
      ]
     },
     "metadata": {},
     "output_type": "display_data"
    }
   ],
   "source": [
    "%%javascript\n",
    "IPython.OutputArea.auto_scroll_threshold = 9999;"
   ]
  },
  {
   "cell_type": "code",
   "execution_count": 1,
   "id": "7e32d8d1",
   "metadata": {},
   "outputs": [
    {
     "name": "stdout",
     "output_type": "stream",
     "text": [
      "select l_quantity as hello from lineitem\n",
      "--------------------------------\n",
      "relations:\n",
      "- root:\n",
      "    input:\n",
      "      project:\n",
      "        common:\n",
      "          emit:\n",
      "            outputMapping:\n",
      "            - 16\n",
      "        expressions:\n",
      "        - selection:\n",
      "            directReference:\n",
      "              structField:\n",
      "                field: 4\n",
      "            rootReference: {}\n",
      "        input:\n",
      "          read:\n",
      "            baseSchema:\n",
      "              names:\n",
      "              - L_ORDERKEY\n",
      "              - L_PARTKEY\n",
      "              - L_SUPPKEY\n",
      "              - L_LINENUMBER\n",
      "              - L_QUANTITY\n",
      "              - L_EXTENDEDPRICE\n",
      "              - L_DISCOUNT\n",
      "              - L_TAX\n",
      "              - L_RETURNFLAG\n",
      "              - L_LINESTATUS\n",
      "              - L_SHIPDATE\n",
      "              - L_COMMITDATE\n",
      "              - L_RECEIPTDATE\n",
      "              - L_SHIPINSTRUCT\n",
      "              - L_SHIPMODE\n",
      "              - L_COMMENT\n",
      "              struct:\n",
      "                nullability: NULLABILITY_REQUIRED\n",
      "                types:\n",
      "                - i64:\n",
      "                    nullability: NULLABILITY_REQUIRED\n",
      "                - i64:\n",
      "                    nullability: NULLABILITY_REQUIRED\n",
      "                - i64:\n",
      "                    nullability: NULLABILITY_REQUIRED\n",
      "                - i32:\n",
      "                    nullability: NULLABILITY_NULLABLE\n",
      "                - decimal:\n",
      "                    nullability: NULLABILITY_NULLABLE\n",
      "                    precision: 19\n",
      "                - decimal:\n",
      "                    nullability: NULLABILITY_NULLABLE\n",
      "                    precision: 19\n",
      "                - decimal:\n",
      "                    nullability: NULLABILITY_NULLABLE\n",
      "                    precision: 19\n",
      "                - decimal:\n",
      "                    nullability: NULLABILITY_NULLABLE\n",
      "                    precision: 19\n",
      "                - fixedChar:\n",
      "                    length: 1\n",
      "                    nullability: NULLABILITY_NULLABLE\n",
      "                - fixedChar:\n",
      "                    length: 1\n",
      "                    nullability: NULLABILITY_NULLABLE\n",
      "                - date:\n",
      "                    nullability: NULLABILITY_NULLABLE\n",
      "                - date:\n",
      "                    nullability: NULLABILITY_NULLABLE\n",
      "                - date:\n",
      "                    nullability: NULLABILITY_NULLABLE\n",
      "                - fixedChar:\n",
      "                    length: 25\n",
      "                    nullability: NULLABILITY_NULLABLE\n",
      "                - fixedChar:\n",
      "                    length: 10\n",
      "                    nullability: NULLABILITY_NULLABLE\n",
      "                - varchar:\n",
      "                    length: 44\n",
      "                    nullability: NULLABILITY_NULLABLE\n",
      "            common:\n",
      "              direct: {}\n",
      "            namedTable:\n",
      "              names:\n",
      "              - LINEITEM\n",
      "    names:\n",
      "    - HELLO\n",
      "\n",
      "--------------------------------\n"
     ]
    },
    {
     "data": {
      "text/html": [
       "\n",
       "        <iframe\n",
       "            width=\"950\"\n",
       "            height=\"2000\"\n",
       "            src=\"out.html\"\n",
       "            frameborder=\"0\"\n",
       "            allowfullscreen\n",
       "            \n",
       "        ></iframe>\n",
       "        "
      ],
      "text/plain": [
       "<IPython.lib.display.IFrame at 0x7fefcc69f040>"
      ]
     },
     "execution_count": 1,
     "metadata": {},
     "output_type": "execute_result"
    }
   ],
   "source": [
    "import helper\n",
    "import substrait_validator as sv\n",
    "\n",
    "# Some SQL queries to try out. TPC-H tables are available as context.\n",
    "#query = 'select 1'\n",
    "query = 'select l_quantity as hello from lineitem'\n",
    "#query = 'select sum(l_quantity) from lineitem group by l_orderkey, l_partkey'\n",
    "#query = helper.get_tpch(1)\n",
    "\n",
    "# Show the query.\n",
    "print(query)\n",
    "\n",
    "# Convert to Substrait plan with Isthmus.\n",
    "plan = helper.run_isthmus_with_tpch(query)\n",
    "\n",
    "# Show the plan as YAML.\n",
    "print('--------------------------------')\n",
    "print(sv.plan_to_yaml(plan))\n",
    "print('--------------------------------')\n",
    "\n",
    "# Validate and generate HTML report page.\n",
    "html = sv.plan_to_html(plan)\n",
    "\n",
    "# Show the report page.\n",
    "from IPython.display import IFrame\n",
    "with open('out.html', 'w') as f:\n",
    "    f.write(html)\n",
    "IFrame('out.html', width=950, height=2000)"
   ]
  }
 ],
 "metadata": {
  "kernelspec": {
   "display_name": "Python 3 (ipykernel)",
   "language": "python",
   "name": "python3"
  },
  "language_info": {
   "codemirror_mode": {
    "name": "ipython",
    "version": 3
   },
   "file_extension": ".py",
   "mimetype": "text/x-python",
   "name": "python",
   "nbconvert_exporter": "python",
   "pygments_lexer": "ipython3",
   "version": "3.10.2"
  }
 },
 "nbformat": 4,
 "nbformat_minor": 5
}
